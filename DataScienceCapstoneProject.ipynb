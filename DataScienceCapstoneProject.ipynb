{
 "cells": [
  {
   "cell_type": "markdown",
   "metadata": {},
   "source": [
    "Install Needed Packeges"
   ]
  },
  {
   "cell_type": "code",
   "execution_count": null,
   "metadata": {
    "ExecuteTime": {
     "end_time": "2019-10-16T16:01:33.025089Z",
     "start_time": "2019-10-16T16:01:33.009461Z"
    }
   },
   "outputs": [],
   "source": [
    "# !conda install -c conda-forge geocoder\n",
    "# !conda install -c conda-forge folium=0.5.0 --yes\n",
    "# !conda install -c anaconda requests\n",
    "# !conda install -c anaconda beautifulsoup4\n",
    "# !conda install -c anaconda lxml"
   ]
  },
  {
   "cell_type": "markdown",
   "metadata": {},
   "source": [
    "Import Needed Packeges"
   ]
  },
  {
   "cell_type": "code",
   "execution_count": 1,
   "metadata": {
    "ExecuteTime": {
     "end_time": "2019-10-16T16:52:24.903932Z",
     "start_time": "2019-10-16T16:52:14.982360Z"
    }
   },
   "outputs": [],
   "source": [
    "import geocoder # import geocoder\n",
    "from geopy.geocoders import Nominatim # convert an address into latitude and long\n",
    "\n",
    "import folium # map rendering library\n",
    "from folium import plugins\n",
    "from folium.plugins import MarkerCluster\n",
    "from folium.plugins import HeatMap\n",
    "\n",
    "import requests # for making HTTP requests in Python\n",
    "import pandas as pd # providing high-performance, easy-to-use data structures \n",
    "import matplotlib.pyplot as plt\n",
    "from matplotlib.pyplot import *\n",
    "\n",
    "import numpy as np # library to handle data in a vectorized manner\n",
    "from pandas.io.json import json_normalize\n",
    "from urllib.request import urlopen\n",
    "import json\n",
    "from sklearn.cluster import KMeans # import k-means from clustering stage\n",
    "from bs4 import BeautifulSoup # for pulling data out of HTML and XML files\n",
    "import geopy.distance\n",
    "import matplotlib.colors as colors # A module for converting numbers or color arguments to RGB or RGBA"
   ]
  },
  {
   "cell_type": "markdown",
   "metadata": {},
   "source": [
    "## Get Abu Dhabi City GeoLocation using Nominatim"
   ]
  },
  {
   "cell_type": "code",
   "execution_count": 2,
   "metadata": {
    "ExecuteTime": {
     "end_time": "2019-10-16T16:52:27.513231Z",
     "start_time": "2019-10-16T16:52:26.731997Z"
    }
   },
   "outputs": [
    {
     "name": "stdout",
     "output_type": "stream",
     "text": [
      "(24.39647445, 54.5366630864359)\n"
     ]
    }
   ],
   "source": [
    "address = 'Abu Dhabi, Abu Dhabi, United Arab Emirates'\n",
    "# address = '102 North End Ave, New York, NY'\n",
    "geolocator = Nominatim(user_agent=\"ADZss\")\n",
    "location = geolocator.geocode(address)\n",
    "ADLat = location.latitude\n",
    "ADLong = location.longitude\n",
    "print((ADLat,ADLong ))"
   ]
  },
  {
   "cell_type": "markdown",
   "metadata": {},
   "source": [
    "Show Adu Dhabi Map"
   ]
  },
  {
   "cell_type": "code",
   "execution_count": null,
   "metadata": {
    "ExecuteTime": {
     "end_time": "2019-10-16T16:01:51.094000Z",
     "start_time": "2019-10-16T16:01:51.031502Z"
    }
   },
   "outputs": [],
   "source": [
    "folium.Map(location=[ADLat, ADLong],zoom_start=11)"
   ]
  },
  {
   "cell_type": "markdown",
   "metadata": {},
   "source": [
    "## Get Post Offices in Dhabi City\n",
    "i will use two methods to retrive post offices in Abu Dhabi<br>\n",
    "1- Foursquare.com with radius 50 Km of Abu dhabi city location<br>\n",
    "2- The UAE official Open Data Portal (Bayanat.ae)"
   ]
  },
  {
   "cell_type": "markdown",
   "metadata": {},
   "source": [
    "#### 1- Foursquare"
   ]
  },
  {
   "cell_type": "code",
   "execution_count": null,
   "metadata": {
    "ExecuteTime": {
     "end_time": "2019-10-16T16:01:56.781324Z",
     "start_time": "2019-10-16T16:01:56.765702Z"
    }
   },
   "outputs": [],
   "source": [
    "CLIENT_ID = 'SETXCY5U2AK53ES13PY4SUB0IK4YQPFGSFXCKOCIUADQJ1U1' # your Foursquare ID\n",
    "CLIENT_SECRET = 'S3IGI0LFO01E2UHCD5CXLK21K0VAMBWUGMSNVBFT5POUUXTK' # your Foursquare Secret\n",
    "VERSION = '20180604' # Foursquare API version\n",
    "\n",
    "radius = 50000\n",
    "LIMIT = 500\n",
    "search_query = 'Post Office'\n",
    "url = 'https://api.foursquare.com/v2/venues/search?client_id={}&client_secret={}&ll={},{}&v={}&query={}&radius={}&limit={}'.format(CLIENT_ID, CLIENT_SECRET, ADLat, ADLong, VERSION, search_query, radius, LIMIT)\n",
    "url"
   ]
  },
  {
   "cell_type": "code",
   "execution_count": null,
   "metadata": {
    "ExecuteTime": {
     "end_time": "2019-10-16T16:01:59.296871Z",
     "start_time": "2019-10-16T16:01:58.687517Z"
    }
   },
   "outputs": [],
   "source": [
    "results = requests.get(url).json()\n",
    "# results"
   ]
  },
  {
   "cell_type": "code",
   "execution_count": null,
   "metadata": {
    "ExecuteTime": {
     "end_time": "2019-10-16T16:02:00.937446Z",
     "start_time": "2019-10-16T16:02:00.906203Z"
    }
   },
   "outputs": [],
   "source": [
    "# assign relevant part of JSON to venues\n",
    "postOffices = results['response']['venues']\n",
    "\n",
    "# tranform venues into a dataframe\n",
    "Foursquare_df = json_normalize(postOffices)\n",
    "# Foursquare_df.head()"
   ]
  },
  {
   "cell_type": "code",
   "execution_count": null,
   "metadata": {
    "ExecuteTime": {
     "end_time": "2019-10-16T16:02:02.328031Z",
     "start_time": "2019-10-16T16:02:02.296787Z"
    }
   },
   "outputs": [],
   "source": [
    "# function that extracts the category of the venue\n",
    "def get_category_type(row):\n",
    "    try:\n",
    "        categories_list = row['categories']\n",
    "    except:\n",
    "        categories_list = row['venue.categories']\n",
    "        \n",
    "    if len(categories_list) == 0:\n",
    "        return None\n",
    "    else:\n",
    "        return categories_list[0]['name']"
   ]
  },
  {
   "cell_type": "code",
   "execution_count": null,
   "metadata": {
    "ExecuteTime": {
     "end_time": "2019-10-16T16:02:04.312343Z",
     "start_time": "2019-10-16T16:02:04.265469Z"
    }
   },
   "outputs": [],
   "source": [
    "# keep only columns that include venue name, and anything that is associated with location\n",
    "filtered_columns = ['name', 'categories','location.lat','location.lng']  #+ [col for col in Foursquare_df.columns if col.startswith('location')] + ['id']\n",
    "Foursquare_df_filtered = Foursquare_df.loc[:, filtered_columns]\n",
    "\n",
    "# filter the category for each row\n",
    "# Foursquare_df_filtered['categories'] = Foursquare_df_filtered.apply(get_category_type, axis=1)\n",
    "Foursquare_df_filtered = Foursquare_df_filtered[Foursquare_df_filtered['name'].str.contains(\"Post Office\") | Foursquare_df_filtered['categories'].str.contains(\"Post Office\")]\n",
    "\n",
    "Foursquare_df_filtered.drop(columns=['categories'], inplace=True)\n",
    "Foursquare_df_filtered.rename(columns={\"location.lat\": \"lat\", \"location.lng\": \"lng\"}, inplace=True)\n",
    "\n",
    "# Foursquare_df_filtered.head()"
   ]
  },
  {
   "cell_type": "markdown",
   "metadata": {},
   "source": [
    "#### Bayanat.ae\n",
    "Bayanat.ae The UAE official Open Data Portal provides enhanced open data systems for public use, \n",
    "http://data.bayanat.ae/en_GB/dataset/emirates-post-offices-gis-location"
   ]
  },
  {
   "cell_type": "code",
   "execution_count": 3,
   "metadata": {
    "ExecuteTime": {
     "end_time": "2019-10-16T16:52:39.637855Z",
     "start_time": "2019-10-16T16:52:39.497252Z"
    }
   },
   "outputs": [],
   "source": [
    "bayanatURL = \"http://data.bayanat.ae/api/action/datastore_search?resource_id=44d831dc-2c88-4b37-bc1d-57ab680181df&q=Dhabi\"\n",
    "results = requests.get(bayanatURL).json()\n",
    "\n",
    "bayanat_df = json_normalize(results[\"result\"][\"records\"])\n",
    "# bayanat_df.head()"
   ]
  },
  {
   "cell_type": "code",
   "execution_count": 4,
   "metadata": {
    "ExecuteTime": {
     "end_time": "2019-10-16T16:52:42.997125Z",
     "start_time": "2019-10-16T16:52:42.965880Z"
    }
   },
   "outputs": [],
   "source": [
    "# keep only columns that include venue name, and anything that is associated with location\n",
    "filtered_columns = ['Branch postoffice name', 'updated Longitude','updated Latitude']\n",
    "filtered_bayanat_df = bayanat_df.loc[:, filtered_columns]\n",
    "\n",
    "filtered_bayanat_df.rename(columns={\"Branch postoffice name\": \"name\", \"updated Longitude\": \"lng\", \"updated Latitude\": \"lat\"}, inplace=True)\n",
    "# filtered_bayanat_df.dtypes"
   ]
  },
  {
   "cell_type": "code",
   "execution_count": 5,
   "metadata": {
    "ExecuteTime": {
     "end_time": "2019-10-16T16:52:49.558269Z",
     "start_time": "2019-10-16T16:52:49.527037Z"
    }
   },
   "outputs": [],
   "source": [
    "filtered_bayanat_df = filtered_bayanat_df.astype({\"name\": str, \"lng\": float,\"lat\": float})\n",
    "# filtered_bayanat_df.dtypes"
   ]
  },
  {
   "cell_type": "markdown",
   "metadata": {},
   "source": [
    "##### Plot Post offices retrived from <font color='blue'>Foursquare</font> and <font color='orange'>bayanat.ae</font> "
   ]
  },
  {
   "cell_type": "code",
   "execution_count": null,
   "metadata": {
    "ExecuteTime": {
     "end_time": "2019-10-16T16:02:12.577795Z",
     "start_time": "2019-10-16T16:02:12.015314Z"
    }
   },
   "outputs": [],
   "source": [
    "postOffices_map = folium.Map(location=[ADLat, ADLong], zoom_start=11)\n",
    "\n",
    "# add the post Offices as blue circle markers\n",
    "for lat, lng, label in zip(Foursquare_df_filtered.lat, Foursquare_df_filtered.lng, Foursquare_df_filtered.name):\n",
    "    folium.features.CircleMarker(\n",
    "        [lat, lng],\n",
    "        radius=5,\n",
    "        color='blue',\n",
    "        popup=label,\n",
    "        fill = True,\n",
    "        fill_color='blue',\n",
    "        fill_opacity=0.6\n",
    "    ).add_to(postOffices_map)\n",
    "\n",
    "for lat, lng, label in zip(filtered_bayanat_df.lat, filtered_bayanat_df.lng, filtered_bayanat_df.name):\n",
    "    folium.features.CircleMarker(\n",
    "        [lat, lng],\n",
    "        radius=5,\n",
    "        color='orange',\n",
    "        popup=label,\n",
    "        fill = True,\n",
    "        fill_color='orange',\n",
    "        fill_opacity=0.6\n",
    "    ).add_to(postOffices_map)\n",
    "# display map\n",
    "postOffices_map"
   ]
  },
  {
   "cell_type": "markdown",
   "metadata": {
    "ExecuteTime": {
     "end_time": "2019-10-15T17:21:43.477613Z",
     "start_time": "2019-10-15T17:21:43.446934Z"
    }
   },
   "source": [
    "Analysing Plotted Post Office GeoLocations from Plot Post offices retrived from <font color='blue'>Foursquare</font> and <font color='orange'>bayanat.ae</font> <br>\n",
    "\n",
    "- bayanat.ae have more data\n",
    "- Foursquare have Doublicates \n",
    " - 2 locations for Butain Post Office\n",
    " - 2 locations for Khalidiya Post Office\n",
    " - 2 locations for Abu Dhabi Central Post Office\n",
    " - 2 locations for Hamdan Post Office\n",
    " \n",
    " Thus we will carry on using Data from bayanat.ae"
   ]
  },
  {
   "cell_type": "markdown",
   "metadata": {},
   "source": [
    "### Data Cleanup"
   ]
  },
  {
   "cell_type": "markdown",
   "metadata": {
    "ExecuteTime": {
     "end_time": "2019-10-15T17:31:44.150692Z",
     "start_time": "2019-10-15T17:31:44.119442Z"
    }
   },
   "source": [
    "#### 1- Drop Post Offices outside Abu Dhabi City"
   ]
  },
  {
   "cell_type": "code",
   "execution_count": 6,
   "metadata": {
    "ExecuteTime": {
     "end_time": "2019-10-16T16:53:02.776667Z",
     "start_time": "2019-10-16T16:53:02.698548Z"
    }
   },
   "outputs": [
    {
     "data": {
      "text/html": [
       "<div>\n",
       "<style scoped>\n",
       "    .dataframe tbody tr th:only-of-type {\n",
       "        vertical-align: middle;\n",
       "    }\n",
       "\n",
       "    .dataframe tbody tr th {\n",
       "        vertical-align: top;\n",
       "    }\n",
       "\n",
       "    .dataframe thead th {\n",
       "        text-align: right;\n",
       "    }\n",
       "</style>\n",
       "<table border=\"1\" class=\"dataframe\">\n",
       "  <thead>\n",
       "    <tr style=\"text-align: right;\">\n",
       "      <th></th>\n",
       "      <th>name</th>\n",
       "      <th>lng</th>\n",
       "      <th>lat</th>\n",
       "      <th>distance</th>\n",
       "    </tr>\n",
       "  </thead>\n",
       "  <tbody>\n",
       "    <tr>\n",
       "      <td>0</td>\n",
       "      <td>Tam Centre - Zayed City Post Office</td>\n",
       "      <td>53.700222</td>\n",
       "      <td>23.674578</td>\n",
       "      <td>116.758158</td>\n",
       "    </tr>\n",
       "    <tr>\n",
       "      <td>1</td>\n",
       "      <td>Zayed City Post Office</td>\n",
       "      <td>53.702538</td>\n",
       "      <td>23.659077</td>\n",
       "      <td>117.774249</td>\n",
       "    </tr>\n",
       "    <tr>\n",
       "      <td>2</td>\n",
       "      <td>Tam Centre - Ghayathi Post Office</td>\n",
       "      <td>52.809547</td>\n",
       "      <td>23.849718</td>\n",
       "      <td>185.718252</td>\n",
       "    </tr>\n",
       "    <tr>\n",
       "      <td>3</td>\n",
       "      <td>Tam Centre - Liwa Post Office</td>\n",
       "      <td>53.798080</td>\n",
       "      <td>23.131104</td>\n",
       "      <td>159.087667</td>\n",
       "    </tr>\n",
       "    <tr>\n",
       "      <td>4</td>\n",
       "      <td>Al Nadi Sayahi Post Office</td>\n",
       "      <td>54.379688</td>\n",
       "      <td>24.498306</td>\n",
       "      <td>19.508143</td>\n",
       "    </tr>\n",
       "  </tbody>\n",
       "</table>\n",
       "</div>"
      ],
      "text/plain": [
       "                                  name        lng        lat    distance\n",
       "0  Tam Centre - Zayed City Post Office  53.700222  23.674578  116.758158\n",
       "1               Zayed City Post Office  53.702538  23.659077  117.774249\n",
       "2    Tam Centre - Ghayathi Post Office  52.809547  23.849718  185.718252\n",
       "3        Tam Centre - Liwa Post Office  53.798080  23.131104  159.087667\n",
       "4           Al Nadi Sayahi Post Office  54.379688  24.498306   19.508143"
      ]
     },
     "execution_count": 6,
     "metadata": {},
     "output_type": "execute_result"
    }
   ],
   "source": [
    "coords_1 = (ADLat, ADLong)\n",
    "filtered_bayanat_df[\"distance\"]=np.nan\n",
    "\n",
    "for index, row in filtered_bayanat_df.iterrows():\n",
    "    coords_2 = (row[\"lat\"], row[\"lng\"])\n",
    "    distance=geopy.distance.geodesic(coords_1, coords_2).km\n",
    "    filtered_bayanat_df.loc[index, 'distance'] = distance\n",
    "    \n",
    "filtered_bayanat_df.head()"
   ]
  },
  {
   "cell_type": "code",
   "execution_count": 7,
   "metadata": {
    "ExecuteTime": {
     "end_time": "2019-10-16T16:53:22.291847Z",
     "start_time": "2019-10-16T16:53:22.244973Z"
    }
   },
   "outputs": [
    {
     "data": {
      "text/html": [
       "<div>\n",
       "<style scoped>\n",
       "    .dataframe tbody tr th:only-of-type {\n",
       "        vertical-align: middle;\n",
       "    }\n",
       "\n",
       "    .dataframe tbody tr th {\n",
       "        vertical-align: top;\n",
       "    }\n",
       "\n",
       "    .dataframe thead th {\n",
       "        text-align: right;\n",
       "    }\n",
       "</style>\n",
       "<table border=\"1\" class=\"dataframe\">\n",
       "  <thead>\n",
       "    <tr style=\"text-align: right;\">\n",
       "      <th></th>\n",
       "      <th>name</th>\n",
       "      <th>lng</th>\n",
       "      <th>lat</th>\n",
       "      <th>distance</th>\n",
       "    </tr>\n",
       "  </thead>\n",
       "  <tbody>\n",
       "    <tr>\n",
       "      <td>4</td>\n",
       "      <td>Al Nadi Sayahi Post Office</td>\n",
       "      <td>54.379688</td>\n",
       "      <td>24.498306</td>\n",
       "      <td>19.508143</td>\n",
       "    </tr>\n",
       "    <tr>\n",
       "      <td>5</td>\n",
       "      <td>Bani Yas Post Office</td>\n",
       "      <td>54.643620</td>\n",
       "      <td>24.285358</td>\n",
       "      <td>16.410080</td>\n",
       "    </tr>\n",
       "    <tr>\n",
       "      <td>7</td>\n",
       "      <td>Hamdan Post Office</td>\n",
       "      <td>54.366886</td>\n",
       "      <td>24.496719</td>\n",
       "      <td>20.485225</td>\n",
       "    </tr>\n",
       "    <tr>\n",
       "      <td>9</td>\n",
       "      <td>Al Falah Post Office</td>\n",
       "      <td>54.379513</td>\n",
       "      <td>24.481054</td>\n",
       "      <td>18.485430</td>\n",
       "    </tr>\n",
       "    <tr>\n",
       "      <td>10</td>\n",
       "      <td>Al Musafah Post Office</td>\n",
       "      <td>54.521702</td>\n",
       "      <td>24.377821</td>\n",
       "      <td>2.563666</td>\n",
       "    </tr>\n",
       "    <tr>\n",
       "      <td>12</td>\n",
       "      <td>Al Butain Post Office</td>\n",
       "      <td>54.349064</td>\n",
       "      <td>24.459110</td>\n",
       "      <td>20.250433</td>\n",
       "    </tr>\n",
       "    <tr>\n",
       "      <td>13</td>\n",
       "      <td>Al Rahba Post Office</td>\n",
       "      <td>54.694187</td>\n",
       "      <td>24.576313</td>\n",
       "      <td>25.529641</td>\n",
       "    </tr>\n",
       "    <tr>\n",
       "      <td>14</td>\n",
       "      <td>Khalidiya Post Office</td>\n",
       "      <td>54.340950</td>\n",
       "      <td>24.469082</td>\n",
       "      <td>21.414531</td>\n",
       "    </tr>\n",
       "    <tr>\n",
       "      <td>15</td>\n",
       "      <td>Sheikh Khalifa Medical City Post Office</td>\n",
       "      <td>54.364971</td>\n",
       "      <td>24.468798</td>\n",
       "      <td>19.165585</td>\n",
       "    </tr>\n",
       "    <tr>\n",
       "      <td>16</td>\n",
       "      <td>Shabiyat Musafah Post Office</td>\n",
       "      <td>54.532993</td>\n",
       "      <td>24.332832</td>\n",
       "      <td>7.059090</td>\n",
       "    </tr>\n",
       "    <tr>\n",
       "      <td>17</td>\n",
       "      <td>Masdar City Post Office</td>\n",
       "      <td>54.617893</td>\n",
       "      <td>24.434525</td>\n",
       "      <td>9.254007</td>\n",
       "    </tr>\n",
       "    <tr>\n",
       "      <td>18</td>\n",
       "      <td>Khalifa City Post Office</td>\n",
       "      <td>54.569283</td>\n",
       "      <td>24.405136</td>\n",
       "      <td>3.445055</td>\n",
       "    </tr>\n",
       "    <tr>\n",
       "      <td>21</td>\n",
       "      <td>Abu Dhabi Chamber of Commerce &amp; Industry Post ...</td>\n",
       "      <td>54.352592</td>\n",
       "      <td>24.488802</td>\n",
       "      <td>21.282946</td>\n",
       "    </tr>\n",
       "    <tr>\n",
       "      <td>22</td>\n",
       "      <td>Abu Dhabi National Exhibitions Post Office</td>\n",
       "      <td>54.435711</td>\n",
       "      <td>24.418264</td>\n",
       "      <td>10.520054</td>\n",
       "    </tr>\n",
       "    <tr>\n",
       "      <td>23</td>\n",
       "      <td>Abu Dhabi International Airport Post Office</td>\n",
       "      <td>54.643211</td>\n",
       "      <td>24.427881</td>\n",
       "      <td>11.352742</td>\n",
       "    </tr>\n",
       "    <tr>\n",
       "      <td>24</td>\n",
       "      <td>Abu Dhabi Central Post Office</td>\n",
       "      <td>54.368362</td>\n",
       "      <td>24.480530</td>\n",
       "      <td>19.440816</td>\n",
       "    </tr>\n",
       "  </tbody>\n",
       "</table>\n",
       "</div>"
      ],
      "text/plain": [
       "                                                 name        lng        lat  \\\n",
       "4                          Al Nadi Sayahi Post Office  54.379688  24.498306   \n",
       "5                                Bani Yas Post Office  54.643620  24.285358   \n",
       "7                                  Hamdan Post Office  54.366886  24.496719   \n",
       "9                                Al Falah Post Office  54.379513  24.481054   \n",
       "10                             Al Musafah Post Office  54.521702  24.377821   \n",
       "12                              Al Butain Post Office  54.349064  24.459110   \n",
       "13                               Al Rahba Post Office  54.694187  24.576313   \n",
       "14                              Khalidiya Post Office  54.340950  24.469082   \n",
       "15            Sheikh Khalifa Medical City Post Office  54.364971  24.468798   \n",
       "16                       Shabiyat Musafah Post Office  54.532993  24.332832   \n",
       "17                            Masdar City Post Office  54.617893  24.434525   \n",
       "18                           Khalifa City Post Office  54.569283  24.405136   \n",
       "21  Abu Dhabi Chamber of Commerce & Industry Post ...  54.352592  24.488802   \n",
       "22         Abu Dhabi National Exhibitions Post Office  54.435711  24.418264   \n",
       "23        Abu Dhabi International Airport Post Office  54.643211  24.427881   \n",
       "24                      Abu Dhabi Central Post Office  54.368362  24.480530   \n",
       "\n",
       "     distance  \n",
       "4   19.508143  \n",
       "5   16.410080  \n",
       "7   20.485225  \n",
       "9   18.485430  \n",
       "10   2.563666  \n",
       "12  20.250433  \n",
       "13  25.529641  \n",
       "14  21.414531  \n",
       "15  19.165585  \n",
       "16   7.059090  \n",
       "17   9.254007  \n",
       "18   3.445055  \n",
       "21  21.282946  \n",
       "22  10.520054  \n",
       "23  11.352742  \n",
       "24  19.440816  "
      ]
     },
     "execution_count": 7,
     "metadata": {},
     "output_type": "execute_result"
    }
   ],
   "source": [
    "# Drop all rows where distance is greater than 50Km (50000m radius)\n",
    "filtered_bayanat_df.drop(filtered_bayanat_df[filtered_bayanat_df['distance'] > 50 ].index , inplace=True)\n",
    "filtered_bayanat_df"
   ]
  },
  {
   "cell_type": "code",
   "execution_count": null,
   "metadata": {
    "ExecuteTime": {
     "end_time": "2019-10-16T16:42:05.644704Z",
     "start_time": "2019-10-16T16:42:05.629079Z"
    }
   },
   "outputs": [],
   "source": [
    "print (\"Post Offices from Bayanat.ae:{}\\nPost Offices from Foursquare:{}\".format(filtered_bayanat_df.shape[0],Foursquare_df_filtered.shape[0])) "
   ]
  },
  {
   "cell_type": "code",
   "execution_count": 8,
   "metadata": {
    "ExecuteTime": {
     "end_time": "2019-10-16T16:53:31.775932Z",
     "start_time": "2019-10-16T16:53:31.744681Z"
    }
   },
   "outputs": [],
   "source": [
    "# Drop \"distance\" Column \n",
    "filtered_bayanat_df.drop(columns=['distance'], inplace=True)"
   ]
  },
  {
   "cell_type": "markdown",
   "metadata": {},
   "source": [
    "Drop \"Abu Dhabi International Airport Post Office\""
   ]
  },
  {
   "cell_type": "code",
   "execution_count": 9,
   "metadata": {
    "ExecuteTime": {
     "end_time": "2019-10-16T16:53:33.822744Z",
     "start_time": "2019-10-16T16:53:33.775892Z"
    }
   },
   "outputs": [
    {
     "data": {
      "text/html": [
       "<div>\n",
       "<style scoped>\n",
       "    .dataframe tbody tr th:only-of-type {\n",
       "        vertical-align: middle;\n",
       "    }\n",
       "\n",
       "    .dataframe tbody tr th {\n",
       "        vertical-align: top;\n",
       "    }\n",
       "\n",
       "    .dataframe thead th {\n",
       "        text-align: right;\n",
       "    }\n",
       "</style>\n",
       "<table border=\"1\" class=\"dataframe\">\n",
       "  <thead>\n",
       "    <tr style=\"text-align: right;\">\n",
       "      <th></th>\n",
       "      <th>name</th>\n",
       "      <th>lng</th>\n",
       "      <th>lat</th>\n",
       "    </tr>\n",
       "  </thead>\n",
       "  <tbody>\n",
       "    <tr>\n",
       "      <td>4</td>\n",
       "      <td>Al Nadi Sayahi Post Office</td>\n",
       "      <td>54.379688</td>\n",
       "      <td>24.498306</td>\n",
       "    </tr>\n",
       "    <tr>\n",
       "      <td>5</td>\n",
       "      <td>Bani Yas Post Office</td>\n",
       "      <td>54.643620</td>\n",
       "      <td>24.285358</td>\n",
       "    </tr>\n",
       "    <tr>\n",
       "      <td>7</td>\n",
       "      <td>Hamdan Post Office</td>\n",
       "      <td>54.366886</td>\n",
       "      <td>24.496719</td>\n",
       "    </tr>\n",
       "    <tr>\n",
       "      <td>9</td>\n",
       "      <td>Al Falah Post Office</td>\n",
       "      <td>54.379513</td>\n",
       "      <td>24.481054</td>\n",
       "    </tr>\n",
       "    <tr>\n",
       "      <td>10</td>\n",
       "      <td>Al Musafah Post Office</td>\n",
       "      <td>54.521702</td>\n",
       "      <td>24.377821</td>\n",
       "    </tr>\n",
       "    <tr>\n",
       "      <td>12</td>\n",
       "      <td>Al Butain Post Office</td>\n",
       "      <td>54.349064</td>\n",
       "      <td>24.459110</td>\n",
       "    </tr>\n",
       "    <tr>\n",
       "      <td>13</td>\n",
       "      <td>Al Rahba Post Office</td>\n",
       "      <td>54.694187</td>\n",
       "      <td>24.576313</td>\n",
       "    </tr>\n",
       "    <tr>\n",
       "      <td>14</td>\n",
       "      <td>Khalidiya Post Office</td>\n",
       "      <td>54.340950</td>\n",
       "      <td>24.469082</td>\n",
       "    </tr>\n",
       "    <tr>\n",
       "      <td>15</td>\n",
       "      <td>Sheikh Khalifa Medical City Post Office</td>\n",
       "      <td>54.364971</td>\n",
       "      <td>24.468798</td>\n",
       "    </tr>\n",
       "    <tr>\n",
       "      <td>16</td>\n",
       "      <td>Shabiyat Musafah Post Office</td>\n",
       "      <td>54.532993</td>\n",
       "      <td>24.332832</td>\n",
       "    </tr>\n",
       "    <tr>\n",
       "      <td>17</td>\n",
       "      <td>Masdar City Post Office</td>\n",
       "      <td>54.617893</td>\n",
       "      <td>24.434525</td>\n",
       "    </tr>\n",
       "    <tr>\n",
       "      <td>18</td>\n",
       "      <td>Khalifa City Post Office</td>\n",
       "      <td>54.569283</td>\n",
       "      <td>24.405136</td>\n",
       "    </tr>\n",
       "    <tr>\n",
       "      <td>21</td>\n",
       "      <td>Abu Dhabi Chamber of Commerce &amp; Industry Post ...</td>\n",
       "      <td>54.352592</td>\n",
       "      <td>24.488802</td>\n",
       "    </tr>\n",
       "    <tr>\n",
       "      <td>22</td>\n",
       "      <td>Abu Dhabi National Exhibitions Post Office</td>\n",
       "      <td>54.435711</td>\n",
       "      <td>24.418264</td>\n",
       "    </tr>\n",
       "    <tr>\n",
       "      <td>24</td>\n",
       "      <td>Abu Dhabi Central Post Office</td>\n",
       "      <td>54.368362</td>\n",
       "      <td>24.480530</td>\n",
       "    </tr>\n",
       "  </tbody>\n",
       "</table>\n",
       "</div>"
      ],
      "text/plain": [
       "                                                 name        lng        lat\n",
       "4                          Al Nadi Sayahi Post Office  54.379688  24.498306\n",
       "5                                Bani Yas Post Office  54.643620  24.285358\n",
       "7                                  Hamdan Post Office  54.366886  24.496719\n",
       "9                                Al Falah Post Office  54.379513  24.481054\n",
       "10                             Al Musafah Post Office  54.521702  24.377821\n",
       "12                              Al Butain Post Office  54.349064  24.459110\n",
       "13                               Al Rahba Post Office  54.694187  24.576313\n",
       "14                              Khalidiya Post Office  54.340950  24.469082\n",
       "15            Sheikh Khalifa Medical City Post Office  54.364971  24.468798\n",
       "16                       Shabiyat Musafah Post Office  54.532993  24.332832\n",
       "17                            Masdar City Post Office  54.617893  24.434525\n",
       "18                           Khalifa City Post Office  54.569283  24.405136\n",
       "21  Abu Dhabi Chamber of Commerce & Industry Post ...  54.352592  24.488802\n",
       "22         Abu Dhabi National Exhibitions Post Office  54.435711  24.418264\n",
       "24                      Abu Dhabi Central Post Office  54.368362  24.480530"
      ]
     },
     "execution_count": 9,
     "metadata": {},
     "output_type": "execute_result"
    }
   ],
   "source": [
    "filtered_bayanat_df.drop(filtered_bayanat_df[filtered_bayanat_df['name'] == 'Abu Dhabi International Airport Post Office'].index , inplace=True)\n",
    "filtered_bayanat_df"
   ]
  },
  {
   "cell_type": "code",
   "execution_count": null,
   "metadata": {
    "ExecuteTime": {
     "end_time": "2019-10-16T16:46:03.510689Z",
     "start_time": "2019-10-16T16:46:03.479439Z"
    }
   },
   "outputs": [],
   "source": [
    "print (\"Row Counts:{}\".format(filtered_bayanat_df.shape[0])) "
   ]
  },
  {
   "cell_type": "markdown",
   "metadata": {},
   "source": [
    "#### 1- Clean up names, remove \"Emirates Post - \""
   ]
  },
  {
   "cell_type": "code",
   "execution_count": null,
   "metadata": {
    "ExecuteTime": {
     "end_time": "2019-10-16T16:51:28.447317Z",
     "start_time": "2019-10-16T16:51:28.431692Z"
    }
   },
   "outputs": [],
   "source": [
    "# filtered_bayanat_df2 = filtered_bayanat_df\n",
    "# filtered_bayanat_df2['name']"
   ]
  },
  {
   "cell_type": "code",
   "execution_count": null,
   "metadata": {
    "ExecuteTime": {
     "end_time": "2019-10-15T20:23:01.515367Z",
     "start_time": "2019-10-15T20:23:01.484111Z"
    }
   },
   "outputs": [],
   "source": [
    "# filtered_bayanat_df2.loc[:, 'name'].replace(regex=True, to_replace=[\"Emirates Post - \", \"Tam Centre - \"], value=\"\",inplace=True)\n",
    "# filtered_bayanat_df2['name']"
   ]
  },
  {
   "cell_type": "markdown",
   "metadata": {
    "ExecuteTime": {
     "end_time": "2019-10-15T17:44:51.179068Z",
     "start_time": "2019-10-15T17:44:51.147820Z"
    }
   },
   "source": [
    "## Get Neighbourhoods of Dhabi City\n",
    "https://en.wikipedia.org/wiki/Abu_Dhabi contains list of Dhabi City Neighbourhoods\n",
    "\n",
    "we will use BeautifulSoup to scrap the wikipedia page for list of Neighbourhoods"
   ]
  },
  {
   "cell_type": "code",
   "execution_count": 10,
   "metadata": {
    "ExecuteTime": {
     "end_time": "2019-10-16T16:55:08.053781Z",
     "start_time": "2019-10-16T16:55:07.053818Z"
    }
   },
   "outputs": [],
   "source": [
    "url = \"https://en.wikipedia.org/wiki/Abu_Dhabi\"\n",
    "response = requests.get(url)\n",
    "\n",
    "soup = BeautifulSoup(response.text, 'lxml')\n",
    "\n",
    "table = soup.find('div', attrs={'class':'div-col columns column-width','style':'-moz-column-width: 18em; -webkit-column-width: 18em; column-width: 18em;'})\n",
    "\n",
    "# print(table)\n",
    "\n",
    "res = []\n",
    "ul = table.find('ul')\n",
    "for li in ul.find_all('li'):\n",
    "    res.append(li.a.get('title'))\n",
    "\n",
    "df_ADNeighbourhoods = pd.DataFrame(res, columns=[\"Neighborhood\"])"
   ]
  },
  {
   "cell_type": "code",
   "execution_count": 13,
   "metadata": {
    "ExecuteTime": {
     "end_time": "2019-10-16T17:03:28.872531Z",
     "start_time": "2019-10-16T17:03:28.841282Z"
    }
   },
   "outputs": [
    {
     "data": {
      "text/html": [
       "<div>\n",
       "<style scoped>\n",
       "    .dataframe tbody tr th:only-of-type {\n",
       "        vertical-align: middle;\n",
       "    }\n",
       "\n",
       "    .dataframe tbody tr th {\n",
       "        vertical-align: top;\n",
       "    }\n",
       "\n",
       "    .dataframe thead th {\n",
       "        text-align: right;\n",
       "    }\n",
       "</style>\n",
       "<table border=\"1\" class=\"dataframe\">\n",
       "  <thead>\n",
       "    <tr style=\"text-align: right;\">\n",
       "      <th></th>\n",
       "      <th>Neighborhood</th>\n",
       "    </tr>\n",
       "  </thead>\n",
       "  <tbody>\n",
       "    <tr>\n",
       "      <td>0</td>\n",
       "      <td>Al Aman (page does not exist)</td>\n",
       "    </tr>\n",
       "    <tr>\n",
       "      <td>1</td>\n",
       "      <td>Al Bateen (page does not exist)</td>\n",
       "    </tr>\n",
       "    <tr>\n",
       "      <td>2</td>\n",
       "      <td>Al Dhafrah (page does not exist)</td>\n",
       "    </tr>\n",
       "    <tr>\n",
       "      <td>3</td>\n",
       "      <td>Al Falah (page does not exist)</td>\n",
       "    </tr>\n",
       "    <tr>\n",
       "      <td>4</td>\n",
       "      <td>Al Karama, United Arab Emirates</td>\n",
       "    </tr>\n",
       "  </tbody>\n",
       "</table>\n",
       "</div>"
      ],
      "text/plain": [
       "                       Neighborhood\n",
       "0     Al Aman (page does not exist)\n",
       "1   Al Bateen (page does not exist)\n",
       "2  Al Dhafrah (page does not exist)\n",
       "3    Al Falah (page does not exist)\n",
       "4   Al Karama, United Arab Emirates"
      ]
     },
     "execution_count": 13,
     "metadata": {},
     "output_type": "execute_result"
    }
   ],
   "source": [
    "df_ADNeighbourhoods.head()"
   ]
  },
  {
   "cell_type": "code",
   "execution_count": 12,
   "metadata": {
    "ExecuteTime": {
     "end_time": "2019-10-16T16:55:15.334186Z",
     "start_time": "2019-10-16T16:55:15.302935Z"
    }
   },
   "outputs": [
    {
     "name": "stdout",
     "output_type": "stream",
     "text": [
      "Row Counts:43\n"
     ]
    }
   ],
   "source": [
    "print (\"Row Counts:{}\".format(df_ADNeighbourhoods.shape[0])) "
   ]
  },
  {
   "cell_type": "markdown",
   "metadata": {
    "ExecuteTime": {
     "end_time": "2019-10-15T17:47:39.297882Z",
     "start_time": "2019-10-15T17:47:39.282260Z"
    }
   },
   "source": [
    "### Data Cleanup"
   ]
  },
  {
   "cell_type": "markdown",
   "metadata": {
    "ExecuteTime": {
     "end_time": "2019-10-15T17:48:30.374880Z",
     "start_time": "2019-10-15T17:48:30.359255Z"
    }
   },
   "source": [
    "#### 1- Cleanup Neighborhood Name\n",
    "remove (page does not exist)\" from Neighborhood Name<br>\n",
    "fix Neighborhood names "
   ]
  },
  {
   "cell_type": "code",
   "execution_count": 14,
   "metadata": {
    "ExecuteTime": {
     "end_time": "2019-10-16T17:13:13.476760Z",
     "start_time": "2019-10-16T17:13:13.445509Z"
    }
   },
   "outputs": [],
   "source": [
    "df_ADNeighbourhoods.loc[:, 'Neighborhood'].replace(regex=True, to_replace=[\", United Arab Emirates\",\" \\(page does not exist\\)\",\" \\(Abu Dhabi\\)\",\" neighbourhood\"], value=\"\",inplace=True)\n",
    "\n",
    "df_ADNeighbourhoods.loc[:, 'Neighborhood'].replace(regex=True, to_replace=[\"Al Karama\"], value=\"Al Karamah\",inplace=True)\n",
    "df_ADNeighbourhoods.loc[:, 'Neighborhood'].replace(regex=True, to_replace=[\"Al Maqtaa\"], value=\"Al Maqta\",inplace=True)\n",
    "df_ADNeighbourhoods.loc[:, 'Neighborhood'].replace(regex=True, to_replace=[\"Al Meena\"], value=\"Al Mina\",inplace=True)\n",
    "df_ADNeighbourhoods.loc[:, 'Neighborhood'].replace(regex=True, to_replace=[\"Al Moroor\"], value=\"Al Muroor\",inplace=True)\n",
    "df_ADNeighbourhoods.loc[:, 'Neighborhood'].replace(regex=True, to_replace=[\"Al Khalidyah\"], value=\"al khalidiya\",inplace=True)\n"
   ]
  },
  {
   "cell_type": "markdown",
   "metadata": {
    "ExecuteTime": {
     "end_time": "2019-10-15T17:53:27.105479Z",
     "start_time": "2019-10-15T17:53:27.089846Z"
    }
   },
   "source": [
    "### Get Neighbourhoods GeoLocations"
   ]
  },
  {
   "cell_type": "code",
   "execution_count": 15,
   "metadata": {
    "ExecuteTime": {
     "end_time": "2019-10-16T17:13:16.986704Z",
     "start_time": "2019-10-16T17:13:16.955457Z"
    }
   },
   "outputs": [],
   "source": [
    "# Add Columns for latitude and longitude\n",
    "df_ADNeighbourhoods[\"lat\"]=np.nan\n",
    "df_ADNeighbourhoods[\"lng\"]=np.nan"
   ]
  },
  {
   "cell_type": "code",
   "execution_count": 16,
   "metadata": {
    "ExecuteTime": {
     "end_time": "2019-10-16T17:13:56.133822Z",
     "start_time": "2019-10-16T17:13:28.641474Z"
    }
   },
   "outputs": [
    {
     "name": "stdout",
     "output_type": "stream",
     "text": [
      "at index: 9, Al Manaseer : Problem with data or cannot Geocode.\n",
      "at index: 16, Al Muzoon : Problem with data or cannot Geocode.\n",
      "at index: 18, Al Qubesat : Problem with data or cannot Geocode.\n",
      "at index: 19, Al Ras Al Akhdar : Problem with data or cannot Geocode.\n",
      "at index: 22, Al Rehhan : Problem with data or cannot Geocode.\n",
      "at index: 25, Bani Yas : Problem with data or cannot Geocode.\n",
      "at index: 26, Al Zaab : Problem with data or cannot Geocode.\n",
      "at index: 31, Hideriyyat : Problem with data or cannot Geocode.\n",
      "at index: 33, Marina Village : Problem with data or cannot Geocode.\n",
      "at index: 40, Qasr El Shatie : Problem with data or cannot Geocode.\n",
      "at index: 42, Al Samha : Problem with data or cannot Geocode.\n"
     ]
    }
   ],
   "source": [
    "# use Nominatim to get Neighbourhoods GeoLocation\n",
    "\n",
    "geolocator = Nominatim(user_agent=\"ADZss\")\n",
    "for index, row in df_ADNeighbourhoods.iterrows():\n",
    "    address = \"{},Abu Dhabi, United Arab Emirates\".format(row[\"Neighborhood\"])\n",
    "    try:\n",
    "        location = geolocator.geocode(address, timeout=10)\n",
    "        df_ADNeighbourhoods.at[index, 'lat'] = location.latitude\n",
    "        df_ADNeighbourhoods.at[index, 'lng'] = location.longitude\n",
    "    except AttributeError:\n",
    "        print(\"at index: {}, {} : Problem with data or cannot Geocode.\".format(index,row[\"Neighborhood\"]))\n",
    "\n",
    "    \n",
    "    \n"
   ]
  },
  {
   "cell_type": "code",
   "execution_count": 17,
   "metadata": {
    "ExecuteTime": {
     "end_time": "2019-10-16T17:22:53.020767Z",
     "start_time": "2019-10-16T17:22:52.951752Z"
    }
   },
   "outputs": [
    {
     "data": {
      "text/html": [
       "<div>\n",
       "<style scoped>\n",
       "    .dataframe tbody tr th:only-of-type {\n",
       "        vertical-align: middle;\n",
       "    }\n",
       "\n",
       "    .dataframe tbody tr th {\n",
       "        vertical-align: top;\n",
       "    }\n",
       "\n",
       "    .dataframe thead th {\n",
       "        text-align: right;\n",
       "    }\n",
       "</style>\n",
       "<table border=\"1\" class=\"dataframe\">\n",
       "  <thead>\n",
       "    <tr style=\"text-align: right;\">\n",
       "      <th></th>\n",
       "      <th>Neighborhood</th>\n",
       "      <th>lat</th>\n",
       "      <th>lng</th>\n",
       "    </tr>\n",
       "  </thead>\n",
       "  <tbody>\n",
       "    <tr>\n",
       "      <td>0</td>\n",
       "      <td>Al Aman</td>\n",
       "      <td>24.431990</td>\n",
       "      <td>54.426550</td>\n",
       "    </tr>\n",
       "    <tr>\n",
       "      <td>1</td>\n",
       "      <td>Al Bateen</td>\n",
       "      <td>24.451315</td>\n",
       "      <td>54.328144</td>\n",
       "    </tr>\n",
       "    <tr>\n",
       "      <td>2</td>\n",
       "      <td>Al Dhafrah</td>\n",
       "      <td>24.476147</td>\n",
       "      <td>54.369360</td>\n",
       "    </tr>\n",
       "    <tr>\n",
       "      <td>3</td>\n",
       "      <td>Al Falah</td>\n",
       "      <td>24.444696</td>\n",
       "      <td>54.728187</td>\n",
       "    </tr>\n",
       "    <tr>\n",
       "      <td>4</td>\n",
       "      <td>Al Karamah</td>\n",
       "      <td>24.465300</td>\n",
       "      <td>54.371509</td>\n",
       "    </tr>\n",
       "  </tbody>\n",
       "</table>\n",
       "</div>"
      ],
      "text/plain": [
       "  Neighborhood        lat        lng\n",
       "0      Al Aman  24.431990  54.426550\n",
       "1    Al Bateen  24.451315  54.328144\n",
       "2   Al Dhafrah  24.476147  54.369360\n",
       "3     Al Falah  24.444696  54.728187\n",
       "4   Al Karamah  24.465300  54.371509"
      ]
     },
     "execution_count": 17,
     "metadata": {},
     "output_type": "execute_result"
    }
   ],
   "source": [
    "#Add Missing Locations (Available on References)\n",
    "df_ADNeighbourhoods.at[1,['lat','lng']]= {24.4513155,54.328144}\n",
    "\n",
    "df_ADNeighbourhoods.at[9,['lat','lng']]= {24.453333, 54.363889}\n",
    "df_ADNeighbourhoods.at[16,['lat','lng']]= {24.4081379,54.4338398}\n",
    "df_ADNeighbourhoods.at[19,['lat','lng']]= {24.4596244,54.3190142}\n",
    "df_ADNeighbourhoods.at[25,['lat','lng']]= {24.3063479,54.5995936}\n",
    "df_ADNeighbourhoods.at[26,['lat','lng']]= {24.4667598,54.356339}\n",
    "df_ADNeighbourhoods.at[31,['lat','lng']]= {24.417739,54.3576465}\n",
    "df_ADNeighbourhoods.at[33,['lat','lng']]= {24.4772307,54.3179553}\n",
    "df_ADNeighbourhoods.at[40,['lat','lng']]= {24.4261292,54.380629}\n",
    "df_ADNeighbourhoods.at[42,['lat','lng']]= {24.695833,54.676111}\n",
    "\n",
    "df_ADNeighbourhoods.drop(df_ADNeighbourhoods[df_ADNeighbourhoods['Neighborhood'] == 'Al Qubesat'].index , inplace=True)\n",
    "df_ADNeighbourhoods.drop(df_ADNeighbourhoods[df_ADNeighbourhoods['Neighborhood'] == 'Al Rehhan'].index , inplace=True)\n",
    "# Drop 18\n",
    "# Drop 22\n",
    "# 25 \tBani Yas, 24.3063479,54.5995936, https://www.google.com/maps/place/Bani+Yas+-+Abu+Dhabi/@24.3063479,54.5995936,13z/data=!3m1!4b1!4m5!3m4!1s0x3e5e371c349ddf2f:0xa49228e3d5f7c257!8m2!3d24.3105884!4d54.643093\n",
    "# 26 \tAl Zaab,24.4667598,54.356339 ,https://www.google.com/maps/place/Al+Zaab+-+Abu+Dhabi/@24.4667598,54.356339,16z/data=!3m1!4b1!4m5!3m4!1s0x3e5e6610cb4267f7:0xbed72ca9fe455d82!8m2!3d24.4653511!4d54.3617472\n",
    "# 31 \tHideriyyat, 24.4071002,54.3346183, https://www.google.com/maps/place/Al+Hudayriat+Island/@24.4071002,54.3346183,13.5z/data=!4m13!1m7!3m6!1s0x3e5e6f35f2ff0d6f:0x4c12341b13da96f7!2sAl+Hudayriat+Island!3b1!8m2!3d24.4251255!4d54.3412497!3m4!1s0x3e5e6f35f2ff0d6f:0x4c12341b13da96f7!8m2!3d24.4251255!4d54.3412497\n",
    "# 33 \tAl Marina, 24.4772307,54.3179553, https://www.google.com/maps/place/Al+Marina+-+Abu+Dhabi/@24.4772307,54.3179553,14.75z/data=!4m5!3m4!1s0x3e5e65b76b302d3d:0x84129351ceed1e7d!8m2!3d24.477385!4d54.3207573\n",
    "# 40 \tQasr Al+Shatie, 24.4261292,54.380629, https://www.google.com/maps/place/Qasr+Al+Shatie+-+Abu+Dhabi/@24.4261292,54.380629,16z/data=!3m1!4b1!4m5!3m4!1s0x3e5e68feacd1e88d:0x457d527d98a87b97!8m2!3d24.4257347!4d54.3863512\n",
    "# 42 \tAl Samha,24.695833,54.676111 , https://en.wikipedia.org/wiki/Al_Samha\n",
    "\n",
    "df_ADNeighbourhoods.head()\n"
   ]
  },
  {
   "cell_type": "code",
   "execution_count": 18,
   "metadata": {
    "ExecuteTime": {
     "end_time": "2019-10-16T17:24:31.131188Z",
     "start_time": "2019-10-16T17:24:31.093419Z"
    }
   },
   "outputs": [],
   "source": [
    "# Add Missing Neighborhood (Al Bahyah, Al Shahama, Al Rahbah)\n",
    "df_ADNeighbourhoods = df_ADNeighbourhoods.append({'Neighborhood' : 'Al Bahyah' , 'lat' : 24.547706, 'lng' : 54.6628323} , ignore_index=True)\n",
    "df_ADNeighbourhoods = df_ADNeighbourhoods.append({'Neighborhood' : 'Al Shahama' , 'lat' : 24.524108, 'lng' : 54.6770834} , ignore_index=True)\n",
    "df_ADNeighbourhoods = df_ADNeighbourhoods.append({'Neighborhood' : 'Al Rahbah' , 'lat' : 24.605807, 'lng' : 54.6944333} , ignore_index=True)"
   ]
  },
  {
   "cell_type": "code",
   "execution_count": null,
   "metadata": {},
   "outputs": [],
   "source": [
    "# address = 'Al Shahamah, Abu Dhabi, United Arab Emirates'\n",
    "# # address = '102 North End Ave, New York, NY'\n",
    "# geolocator = Nominatim(user_agent=\"ADZss\")\n",
    "# location = geolocator.geocode(address)\n",
    "# print(location.latitude,location.longitude)\n",
    "# 1 \tAl Bateen, 24.4513155,54.328144, https://www.google.com/maps/place/Al+Bateen+-+Abu+Dhabi/@24.4513155,54.3281448,14z/data=!3m1!4b1!4m13!1m7!3m6!1s0x0:0x0!2zMjTCsDEyJzU0LjMiTiA1NcKwMzcnMzQuOCJF!3b1!8m2!3d24.2150834!4d55.6263272!3m4!1s0x3e5e65fca640eac7:0xa0abfabe915f4195!8m2!3d24.4537909!4d54.3523264\n",
    "# 4 \tAl Karamah, ,25.250000, 55.300000 https://en.wikipedia.org/wiki/Al_Karama,_United_Arab_Emirates\n",
    "# 9 \t Al Manaseer , 24.453333, 54.363889 , http://wikimapia.org/10088815/Al-Manaseer\n",
    "# 16 \t Al Muzoon , 24.4081379,54.4338398 , https://www.google.com/maps/place/Al+Muzoon+-+Abu+Dhabi/@24.4081379,54.4338398,14.25z/data=!4m5!3m4!1s0x3e5e69e031e23a43:0x37bf7885558ffdeb!8m2!3d24.4104788!4d54.4354121\n",
    "\n",
    "# 19 \tAl Ras Al Akhdar, 24.4596244,54.3190142,https://www.google.com/maps/place/Al+Ras+Al+Akhdar+-+Abu+Dhabi/@24.4596244,54.3190142,15.75z/data=!4m13!1m7!3m6!1s0x3e5e6599c35f9181:0x3afd829c714bf3f1!2sAl+Ras+Al+Akhdar+-+Abu+Dhabi!3b1!8m2!3d24.4601629!4d54.3182858!3m4!1s0x3e5e6599c35f9181:0x3afd829c714bf3f1!8m2!3d24.4601629!4d54.3182858\n",
    "# 25 \tBani Yas,24.2948788, 54.614033, https://www.google.com/maps/place/Bani+Yas+-+Abu+Dhabi/@24.2948788,54.614033,11.25z/data=!4m5!3m4!1s0x3e5e371c349ddf2f:0xa49228e3d5f7c257!8m2!3d24.3105884!4d54.643093\n",
    "# 18 \tAl Qubesat -- DROP this\n",
    "# 22 \tAl Rehhan -- DROP this\n",
    "# 25 \tBani Yas, 24.3063479,54.5995936, https://www.google.com/maps/place/Bani+Yas+-+Abu+Dhabi/@24.3063479,54.5995936,13z/data=!3m1!4b1!4m5!3m4!1s0x3e5e371c349ddf2f:0xa49228e3d5f7c257!8m2!3d24.3105884!4d54.643093\n",
    "# 26 \tAl Zaab,24.4667598,54.356339 ,https://www.google.com/maps/place/Al+Zaab+-+Abu+Dhabi/@24.4667598,54.356339,16z/data=!3m1!4b1!4m5!3m4!1s0x3e5e6610cb4267f7:0xbed72ca9fe455d82!8m2!3d24.4653511!4d54.3617472\n",
    "# 31 \tHideriyyat, 24.417739,54.3576465, https://www.google.com/maps/place/24%C2%B025'03.9%22N+54%C2%B021'34.2%22E/@24.417739,54.3576465,17z/data=!3m1!4b1!4m14!1m7!3m6!1s0x3e5e504f09a79b11:0x581c873c7be01417!2sAl+Bahyah+-+Abu+Dhabi!3b1!8m2!3d24.5480645!4d54.6643482!3m5!1s0x0:0x0!7e2!8m2!3d24.4177392!4d54.3594865\n",
    "# 33 \tAl Marina, 24.4772307,54.3179553, https://www.google.com/maps/place/Al+Marina+-+Abu+Dhabi/@24.4772307,54.3179553,14.75z/data=!4m5!3m4!1s0x3e5e65b76b302d3d:0x84129351ceed1e7d!8m2!3d24.477385!4d54.3207573\n",
    "# 40 \tQasr Al+Shatie, 24.4261292,54.380629, https://www.google.com/maps/place/Qasr+Al+Shatie+-+Abu+Dhabi/@24.4261292,54.380629,16z/data=!3m1!4b1!4m5!3m4!1s0x3e5e68feacd1e88d:0x457d527d98a87b97!8m2!3d24.4257347!4d54.3863512\n",
    "# 42 \tAl Samha,24.695833,54.676111 , https://en.wikipedia.org/wiki/Al_Samha\n",
    "\n",
    "# Al+Bahyah, 24.5568273,54.577864, https://www.google.com/maps/place/Al+Bahyah+-+Abu+Dhabi/@24.5568273,54.577864,12z/data=!3m1!4b1!4m13!1m7!3m6!1s0x0:0x0!2zMjTCsDEyJzU0LjMiTiA1NcKwMzcnMzQuOCJF!3b1!8m2!3d24.2150834!4d55.6263272!3m4!1s0x3e5e504f09a79b11:0x581c873c7be01417!8m2!3d24.5480601!4d54.6643639\n",
    "# Al+Shahama , 24.505878,54.6340008, https://www.google.com/maps/place/Al+Shahama+-+Abu+Dhabi/@24.505878,54.6340008,13z/data=!3m1!4b1!4m13!1m7!3m6!1s0x0:0x0!2zMjTCsDEyJzU0LjMiTiA1NcKwMzcnMzQuOCJF!3b1!8m2!3d24.2150834!4d55.6263272!3m4!1s0x3e5e51cc4d1989bb:0xec3d8ea42d3640fe!8m2!3d24.5240114!4d54.6787834\n",
    "# Al+Rahbah, 24.5991696,54.6756415, https://www.google.com/maps/place/Al+Rahbah+-+Abu+Dhabi/@24.5991696,54.6756415,14z/data=!3m1!4b1!4m13!1m7!3m6!1s0x0:0x0!2zMjTCsDEyJzU0LjMiTiA1NcKwMzcnMzQuOCJF!3b1!8m2!3d24.2150834!4d55.6263272!3m4!1s0x3e5e519bf23f0341:0xcd5590db2ad175ca!8m2!3d24.6056645!4d54.6966362"
   ]
  },
  {
   "cell_type": "markdown",
   "metadata": {
    "ExecuteTime": {
     "end_time": "2019-10-15T18:04:56.012267Z",
     "start_time": "2019-10-15T18:04:55.996664Z"
    }
   },
   "source": [
    "##### Plot Abu Dhabi City Neighbourhoods"
   ]
  },
  {
   "cell_type": "code",
   "execution_count": 19,
   "metadata": {
    "ExecuteTime": {
     "end_time": "2019-10-16T17:27:28.168257Z",
     "start_time": "2019-10-16T17:27:27.412985Z"
    },
    "scrolled": false
   },
   "outputs": [
    {
     "data": {
      "text/html": [
       "<div style=\"width:100%;\"><div style=\"position:relative;width:100%;height:0;padding-bottom:60%;\"><iframe src=\"data:text/html;charset=utf-8;base64,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\" style=\"position:absolute;width:100%;height:100%;left:0;top:0;border:none !important;\" allowfullscreen webkitallowfullscreen mozallowfullscreen></iframe></div></div>"
      ],
      "text/plain": [
       "<folium.folium.Map at 0x1fc14372f98>"
      ]
     },
     "execution_count": 19,
     "metadata": {},
     "output_type": "execute_result"
    }
   ],
   "source": [
    "Neighbourhoods_map = folium.Map(location=[ADLat, ADLong], zoom_start=9) # generate map centred around the Conrad Hotel\n",
    "\n",
    "mc = MarkerCluster()#creating a Marker for each point in df_sample. Each point will get a popup with their zip\n",
    "for lat, lng, label in zip(df_ADNeighbourhoods.lat, df_ADNeighbourhoods.lng, df_ADNeighbourhoods.Neighborhood):\n",
    "    mc.add_child(folium.Marker(location=[lat,lng],popup=label,icon=folium.Icon(color='lightgray', icon='home', prefix='fa')))\n",
    "\n",
    "heat_data = [[row['lat'],row['lng']] for index, row in df_ADNeighbourhoods.iterrows()]\n",
    "HeatMap(heat_data).add_to(Neighbourhoods_map)\n",
    "\n",
    "Neighbourhoods_map.add_child(mc)\n",
    "# display map\n",
    "Neighbourhoods_map"
   ]
  },
  {
   "cell_type": "markdown",
   "metadata": {
    "ExecuteTime": {
     "end_time": "2019-10-15T18:06:08.320287Z",
     "start_time": "2019-10-15T18:06:08.304660Z"
    }
   },
   "source": [
    "## Data Analysis"
   ]
  },
  {
   "cell_type": "markdown",
   "metadata": {
    "ExecuteTime": {
     "end_time": "2019-10-15T18:09:22.820533Z",
     "start_time": "2019-10-15T18:09:22.789283Z"
    }
   },
   "source": [
    "Calculate total number of post offcies within 2500m radius of a Neighbourhood"
   ]
  },
  {
   "cell_type": "code",
   "execution_count": null,
   "metadata": {
    "ExecuteTime": {
     "end_time": "2019-10-15T20:24:20.357121Z",
     "start_time": "2019-10-15T20:24:20.325894Z"
    }
   },
   "outputs": [],
   "source": [
    "df_ADNeighbourhoods2 = df_ADNeighbourhoods\n",
    "\n",
    "# add new column for Post Offices Count\n",
    "df_ADNeighbourhoods2[\"poCount\"]=0"
   ]
  },
  {
   "cell_type": "code",
   "execution_count": null,
   "metadata": {
    "ExecuteTime": {
     "end_time": "2019-10-15T20:24:22.493657Z",
     "start_time": "2019-10-15T20:24:22.099656Z"
    }
   },
   "outputs": [],
   "source": [
    "for index, row in df_ADNeighbourhoods2.iterrows():\n",
    "    nCoords = (row[\"lat\"], row[\"lng\"])\n",
    "    for i, r in filtered_bayanat_df2.iterrows():\n",
    "        poCoords = (r[\"lat\"], r[\"lng\"])\n",
    "        distance=geopy.distance.geodesic(nCoords,poCoords).m\n",
    "        if distance <=2500:\n",
    "            df_ADNeighbourhoods2.at[index,\"poCount\"] = df_ADNeighbourhoods2.at[index,\"poCount\"] +1\n",
    "\n",
    "df_ADNeighbourhoods2.head()"
   ]
  },
  {
   "cell_type": "markdown",
   "metadata": {},
   "source": [
    "Calculate total number of Neighbourhoods within 2500m radius of a Post Office"
   ]
  },
  {
   "cell_type": "code",
   "execution_count": null,
   "metadata": {
    "ExecuteTime": {
     "end_time": "2019-10-15T20:24:25.425073Z",
     "start_time": "2019-10-15T20:24:25.393846Z"
    }
   },
   "outputs": [],
   "source": [
    "filtered_bayanat_df2 = filtered_bayanat_df\n",
    "\n",
    "# add new column for Neighbourhoods Count\n",
    "filtered_bayanat_df2[\"nbCount\"]=0"
   ]
  },
  {
   "cell_type": "code",
   "execution_count": null,
   "metadata": {
    "ExecuteTime": {
     "end_time": "2019-10-15T20:24:27.747153Z",
     "start_time": "2019-10-15T20:24:27.368238Z"
    }
   },
   "outputs": [],
   "source": [
    "# get Neighbourhoods within 2500m raduis of post office\n",
    "for index, row in filtered_bayanat_df2.iterrows():\n",
    "    poCoords = (row[\"lat\"], row[\"lng\"])\n",
    "    for i, r in df_ADNeighbourhoods2.iterrows():\n",
    "        nCoords = (r[\"lat\"], r[\"lng\"])\n",
    "        distance=geopy.distance.geodesic(nCoords,poCoords).m\n",
    "        if distance <=2500:\n",
    "            filtered_bayanat_df2.at[index,\"nbCount\"] = filtered_bayanat_df2.at[index,\"nbCount\"] +1\n",
    "filtered_bayanat_df2.head()"
   ]
  },
  {
   "cell_type": "markdown",
   "metadata": {
    "ExecuteTime": {
     "end_time": "2019-10-15T18:17:09.651783Z",
     "start_time": "2019-10-15T18:17:09.614028Z"
    }
   },
   "source": [
    "##### Plot Abu Dhabi City <font color='gray'>Neighbourhoods</font> and <font color='orange'>Post Offices</font>"
   ]
  },
  {
   "cell_type": "code",
   "execution_count": null,
   "metadata": {
    "ExecuteTime": {
     "end_time": "2019-10-15T20:24:31.633237Z",
     "start_time": "2019-10-15T20:24:30.523873Z"
    }
   },
   "outputs": [],
   "source": [
    "Neighbourhoods_map = folium.Map(location=[ADLat, ADLong], zoom_start=11) # generate map centred around the Conrad Hotel\n",
    "\n",
    "# add the post Offices as orange circle markers\n",
    "for lat, lng, label,po in zip(df_ADNeighbourhoods.lat, df_ADNeighbourhoods.lng, df_ADNeighbourhoods.Neighborhood,df_ADNeighbourhoods.poCount):\n",
    "    popup_text = \"\"\"{}<br>total Post Offices: {}\"\"\"\n",
    "    popup_text = popup_text.format(label,po)\n",
    "    \n",
    "    folium.features.Marker([lat, lng],popup=popup_text,icon=folium.Icon(color='lightgray', icon='home', prefix='fa')).add_to(Neighbourhoods_map)\n",
    "\n",
    "for lat, lng, label,nb in zip(filtered_bayanat_df2.lat, filtered_bayanat_df2.lng, filtered_bayanat_df2.name,filtered_bayanat_df2.nbCount):\n",
    "    popup_text = \"\"\"{}<br>total Neighbourhoods: {}\"\"\"\n",
    "    popup_text = popup_text.format(label,nb)\n",
    "    \n",
    "    folium.features.Circle(\n",
    "        [lat, lng],\n",
    "        radius=2500,\n",
    "        color='orange',\n",
    "        popup=label,\n",
    "        fill = True,\n",
    "        fill_color='orange',\n",
    "        fill_opacity=0.2\n",
    "    ).add_to(Neighbourhoods_map)\n",
    "    folium.features.Marker([lat, lng],popup=popup_text,icon=folium.Icon(color='orange', icon='envelope', prefix='fa')).add_to(Neighbourhoods_map)\n",
    "\n",
    "# display map\n",
    "Neighbourhoods_map"
   ]
  },
  {
   "cell_type": "code",
   "execution_count": null,
   "metadata": {
    "ExecuteTime": {
     "end_time": "2019-10-15T20:24:42.867653Z",
     "start_time": "2019-10-15T20:24:42.836403Z"
    }
   },
   "outputs": [],
   "source": [
    "df_ADNeighbourhoods_clust = df_ADNeighbourhoods.drop('Neighborhood', 1)"
   ]
  },
  {
   "cell_type": "code",
   "execution_count": null,
   "metadata": {
    "ExecuteTime": {
     "end_time": "2019-10-15T20:24:45.575110Z",
     "start_time": "2019-10-15T20:24:44.873233Z"
    }
   },
   "outputs": [],
   "source": [
    "Sum_of_squared_distances = []\n",
    "K = range(1,15)\n",
    "for k in K:\n",
    "    km = KMeans(n_clusters=k)\n",
    "    km = km.fit(df_ADNeighbourhoods_clust)\n",
    "    Sum_of_squared_distances.append(km.inertia_)"
   ]
  },
  {
   "cell_type": "code",
   "execution_count": null,
   "metadata": {
    "ExecuteTime": {
     "end_time": "2019-10-15T20:24:47.812504Z",
     "start_time": "2019-10-15T20:24:47.333311Z"
    }
   },
   "outputs": [],
   "source": [
    "plt.plot(K, Sum_of_squared_distances, 'bx-')\n",
    "plt.xlabel('k')\n",
    "plt.ylabel('Sum_of_squared_distances')\n",
    "plt.title('Elbow Method For Optimal k')\n",
    "plt.show()"
   ]
  },
  {
   "cell_type": "code",
   "execution_count": null,
   "metadata": {
    "ExecuteTime": {
     "end_time": "2019-10-15T20:24:54.183664Z",
     "start_time": "2019-10-15T20:24:54.136781Z"
    }
   },
   "outputs": [],
   "source": [
    "# set number of clusters\n",
    "kclusters = 3\n",
    "\n",
    "# run k-means clustering\n",
    "kmeans = KMeans(n_clusters=kclusters, random_state=0).fit(df_ADNeighbourhoods_clust)\n",
    "\n",
    "# check cluster labels generated for each row in the dataframe\n",
    "kmeans.labels_[0:10]"
   ]
  },
  {
   "cell_type": "code",
   "execution_count": null,
   "metadata": {
    "ExecuteTime": {
     "end_time": "2019-10-15T20:24:56.474557Z",
     "start_time": "2019-10-15T20:24:56.458931Z"
    }
   },
   "outputs": [],
   "source": [
    "# add clustering labels\n",
    "df_ADNeighbourhoods_clustering = df_ADNeighbourhoods\n",
    "df_ADNeighbourhoods_clustering.insert(1, 'ClusterLabels', kmeans.labels_)"
   ]
  },
  {
   "cell_type": "code",
   "execution_count": null,
   "metadata": {
    "ExecuteTime": {
     "end_time": "2019-10-15T20:24:58.743314Z",
     "start_time": "2019-10-15T20:24:58.712067Z"
    }
   },
   "outputs": [],
   "source": [
    "df_ADNeighbourhoods_clustering.head() # check the last columns!"
   ]
  },
  {
   "cell_type": "code",
   "execution_count": null,
   "metadata": {
    "ExecuteTime": {
     "end_time": "2019-10-15T20:26:18.553137Z",
     "start_time": "2019-10-15T20:26:18.537512Z"
    }
   },
   "outputs": [],
   "source": [
    "# set color scheme for the clusters\n",
    "rainbow = ['red','green','blue']\n"
   ]
  },
  {
   "cell_type": "code",
   "execution_count": null,
   "metadata": {},
   "outputs": [],
   "source": [
    "rainbow"
   ]
  },
  {
   "cell_type": "code",
   "execution_count": null,
   "metadata": {
    "ExecuteTime": {
     "end_time": "2019-10-15T20:26:21.571159Z",
     "start_time": "2019-10-15T20:26:20.458464Z"
    }
   },
   "outputs": [],
   "source": [
    "# create map\n",
    "map_clusters = folium.Map(location=[ADLat, ADLong], zoom_start=11)\n",
    "\n",
    "\n",
    "\n",
    "\n",
    "map_clusters = folium.Map(location=[ADLat, ADLong], zoom_start=11) # generate map centred around the Conrad Hotel\n",
    "\n",
    "# add the post Offices as orange circle markers\n",
    "for lat, lng, label,po,ClusterLabels in zip(df_ADNeighbourhoods.lat, df_ADNeighbourhoods.lng, df_ADNeighbourhoods.Neighborhood,df_ADNeighbourhoods.poCount,df_ADNeighbourhoods.ClusterLabels):\n",
    "    popup_text = \"\"\"{}<br>Total Post Offices: {}\"\"\"\n",
    "    popup_text = popup_text.format(label,po)\n",
    "    \n",
    "    folium.features.Marker([lat, lng],popup=popup_text,icon=folium.Icon(color=rainbow[ClusterLabels], icon='home', prefix='fa')).add_to(map_clusters)\n",
    "\n",
    "\n",
    "for lat, lng, label,np in zip(filtered_bayanat_df2.lat, filtered_bayanat_df2.lng, filtered_bayanat_df2.name,filtered_bayanat_df2.nbCount):\n",
    "    popup_text = \"\"\"{}<br>Total Neighbourhoods: {}\"\"\"\n",
    "    popup_text = popup_text.format(label,np)\n",
    "    \n",
    "    folium.features.Circle(\n",
    "        [lat, lng],\n",
    "        radius=2500,\n",
    "        color='orange',\n",
    "        popup=label,\n",
    "        fill = True,\n",
    "        fill_color='orange',\n",
    "        fill_opacity=0.2\n",
    "    ).add_to(map_clusters)\n",
    "    folium.features.Marker([lat, lng],popup=popup_text,icon=folium.Icon(color='orange', icon='envelope', prefix='fa')).add_to(map_clusters)\n",
    "\n",
    "# display map\n",
    "map_clusters\n",
    "\n",
    "\n"
   ]
  },
  {
   "cell_type": "code",
   "execution_count": null,
   "metadata": {
    "ExecuteTime": {
     "end_time": "2019-10-15T20:27:06.860210Z",
     "start_time": "2019-10-15T20:27:06.828961Z"
    }
   },
   "outputs": [],
   "source": [
    "# Examine Cluster 0 , 0 Offices \n",
    "df_ADNeighbourhoods.loc[df_ADNeighbourhoods['ClusterLabels'] == 0, df_ADNeighbourhoods.columns[list(range(0, df_ADNeighbourhoods.shape[1]))]]"
   ]
  }
 ],
 "metadata": {
  "kernelspec": {
   "display_name": "Python 3",
   "language": "python",
   "name": "python3"
  },
  "language_info": {
   "codemirror_mode": {
    "name": "ipython",
    "version": 3
   },
   "file_extension": ".py",
   "mimetype": "text/x-python",
   "name": "python",
   "nbconvert_exporter": "python",
   "pygments_lexer": "ipython3",
   "version": "3.7.3"
  }
 },
 "nbformat": 4,
 "nbformat_minor": 4
}
